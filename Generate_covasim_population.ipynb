{
 "cells": [
  {
   "cell_type": "code",
   "execution_count": 10,
   "id": "5dc27b38-5557-4549-8085-168ff99e0660",
   "metadata": {},
   "outputs": [],
   "source": [
    "import pandas as pd\n",
    "import json\n",
    "import os\n",
    "from tqdm import tqdm\n",
    "import synthpops as sps\n",
    "import numpy as np\n",
    "import covasim as cv\n",
    "import matplotlib.ticker as ticker\n",
    "import matplotlib.pyplot as plt\n",
    "import pylab as pl\n",
    "import sciris as sc\n",
    "import scipy as sp\n",
    "import optuna as op\n",
    "from datetime import datetime, date\n",
    "import random\n",
    "import time\n",
    "\n",
    "from autocalibration_covasim.functions_total import *\n",
    "import warnings\n",
    "warnings.filterwarnings(\"ignore\")\n",
    "\n",
    "import autocalibration_covasim.calibration_total as st\n",
    "from autocalibration_covasim.calibration_total import model"
   ]
  },
  {
   "cell_type": "markdown",
   "id": "c766cff2-3646-48ab-9245-be37a65420b3",
   "metadata": {
    "jp-MarkdownHeadingCollapsed": true
   },
   "source": [
    "# Создание популяции"
   ]
  },
  {
   "cell_type": "markdown",
   "id": "39100ea8-9e68-40c4-9f4f-da00ae4f0cc0",
   "metadata": {
    "jp-MarkdownHeadingCollapsed": true
   },
   "source": [
    "### Подготовка данных"
   ]
  },
  {
   "cell_type": "code",
   "execution_count": null,
   "id": "860e0b65-b7c6-44af-a1dd-3b4e4f4f6934",
   "metadata": {},
   "outputs": [],
   "source": [
    "schools_path = './data/chelyabinsk_25/schools.json'\n",
    "people_path = './data/chelyabinsk_25/people.txt'\n",
    "households_path = './data/chelyabinsk_25/households.txt'\n",
    "pop_path = './data/chelyabinsk_25/pop_covasim.json'"
   ]
  },
  {
   "cell_type": "code",
   "execution_count": null,
   "id": "c5aa2b74-ccc9-4643-832b-986968569571",
   "metadata": {},
   "outputs": [],
   "source": [
    "school = json.load(open(os.path.expanduser(schools_path)))\n",
    "people = pd.read_csv(people_path, sep='\\t')\n",
    "households = pd.read_csv(households_path, sep='\\t')"
   ]
  },
  {
   "cell_type": "markdown",
   "id": "9423652c-5775-4275-a66e-bd14b2ef9eec",
   "metadata": {
    "jp-MarkdownHeadingCollapsed": true
   },
   "source": [
    "### Создание словаря id: age"
   ]
  },
  {
   "cell_type": "code",
   "execution_count": null,
   "id": "d0e13a60-6b73-45b5-97c3-813025fe221d",
   "metadata": {},
   "outputs": [],
   "source": [
    "people_by_age = {}\n",
    "for i in tqdm(range(101)):\n",
    "    people_by_age[i]=sorted(list(people[people.age==i]['sp_id']))"
   ]
  },
  {
   "cell_type": "code",
   "execution_count": null,
   "id": "1e0d195e-ff38-4ce7-bfba-5bbd7c63fc0a",
   "metadata": {},
   "outputs": [],
   "source": [
    "age_by_id = {}\n",
    "for i in people_by_age:\n",
    "    for j in people_by_age[i]:\n",
    "        age_by_id[j]=i"
   ]
  },
  {
   "cell_type": "markdown",
   "id": "5e709ea9-51d1-4523-a3b5-4485c8d72407",
   "metadata": {
    "jp-MarkdownHeadingCollapsed": true
   },
   "source": [
    "### Создание списка списков жителей одного дома"
   ]
  },
  {
   "cell_type": "code",
   "execution_count": null,
   "id": "00fa2390-6048-4591-a6bb-48768c0ff7ae",
   "metadata": {},
   "outputs": [],
   "source": [
    "households = []\n",
    "for i in tqdm(list(people.groupby('sp_hh_id').size().index)):\n",
    "    households.append(list(people[people.sp_hh_id==i]['sp_id']))"
   ]
  },
  {
   "cell_type": "markdown",
   "id": "e5c7a7c3-d494-4ea1-9049-070a6c8ca441",
   "metadata": {
    "jp-MarkdownHeadingCollapsed": true
   },
   "source": [
    "### Создание списка списков с учениками одной школы"
   ]
  },
  {
   "cell_type": "code",
   "execution_count": null,
   "id": "59529dab-35b3-41ac-bf8d-5b42377ef56c",
   "metadata": {},
   "outputs": [],
   "source": [
    "schools = []\n",
    "for i in tqdm(list(people[(people.age<18)&(people.work_id!='X')].groupby('work_id').size().index)):\n",
    "    schools.append(list(people[(people.work_id==i)&(people.age<18)]['sp_id']))"
   ]
  },
  {
   "cell_type": "markdown",
   "id": "ae62742f-2d54-458b-9aa9-0717dc5213d7",
   "metadata": {
    "jp-MarkdownHeadingCollapsed": true
   },
   "source": [
    "### Создание списка списков с рабочими из одного рабочего места"
   ]
  },
  {
   "cell_type": "code",
   "execution_count": null,
   "id": "bf36b764-81e2-4cf8-bd5d-131498c08b99",
   "metadata": {},
   "outputs": [],
   "source": [
    "works = []\n",
    "for i in tqdm(list(people[(people.age>=18)&(people.work_id!='X')].groupby('work_id').size().index)):\n",
    "    works.append(list(people[(people.work_id==i)&(people.age>=18)]['sp_id']))"
   ]
  },
  {
   "cell_type": "markdown",
   "id": "5b53ed5a-64ee-4eed-92d0-88350000d74f",
   "metadata": {
    "jp-MarkdownHeadingCollapsed": true
   },
   "source": [
    "### Создание списка списков с учителями из одной школы"
   ]
  },
  {
   "cell_type": "code",
   "execution_count": null,
   "id": "8427b8a6-14c9-4bb6-ba14-57a253effd8f",
   "metadata": {},
   "outputs": [],
   "source": [
    "teachers = []\n",
    "for i in range(len(schools)):\n",
    "    teachers.append([])#schools[i][0]])\n",
    "    #del schools[i][0]"
   ]
  },
  {
   "cell_type": "markdown",
   "id": "420e5389-bb8a-40f3-8600-448b2a4a26fb",
   "metadata": {
    "jp-MarkdownHeadingCollapsed": true
   },
   "source": [
    "### Генерация словаря популяции"
   ]
  },
  {
   "cell_type": "code",
   "execution_count": null,
   "id": "c76e8125-b6d9-4763-838e-bb0d62b4c45d",
   "metadata": {},
   "outputs": [],
   "source": [
    "popdict = sps.contact_networks.make_contacts(\n",
    "    sps.pop.Pop, \n",
    "    age_by_uid=age_by_id, \n",
    "    homes_by_uids=households, \n",
    "    students_by_uid_lists=schools,\n",
    "    workplace_by_uid_lists=works,\n",
    "    teachers_by_uid_lists=teachers,\n",
    "    average_class_size=100000,\n",
    ")"
   ]
  },
  {
   "cell_type": "markdown",
   "id": "0de74c66-4ebb-4afd-8cac-a75ab145ecaa",
   "metadata": {
    "jp-MarkdownHeadingCollapsed": true
   },
   "source": [
    "### Конвертация в json"
   ]
  },
  {
   "cell_type": "code",
   "execution_count": null,
   "id": "46762300-beb4-4dea-aa25-d9b8e7f258d7",
   "metadata": {},
   "outputs": [],
   "source": [
    "def myconverter(obj):\n",
    "        if isinstance(obj, np.int64):\n",
    "            return int(obj)\n",
    "        if isinstance(obj, set):\n",
    "            return list(obj)\n",
    "        raise TypeError"
   ]
  },
  {
   "cell_type": "code",
   "execution_count": null,
   "id": "b544ba33-75c5-4e92-8c2c-c9206e4b74dc",
   "metadata": {},
   "outputs": [],
   "source": [
    "with open(pop_path, \"w\", encoding=\"utf-8\") as file:\n",
    "    json.dump(popdict, file, default=myconverter)"
   ]
  },
  {
   "cell_type": "markdown",
   "id": "01c60db6-0000-4b53-a490-4fc186cdb470",
   "metadata": {
    "jp-MarkdownHeadingCollapsed": true
   },
   "source": [
    "# Загрузка популяции из json"
   ]
  },
  {
   "cell_type": "code",
   "execution_count": null,
   "id": "47ffb142-aacf-4c29-acc5-4d3a05d49df2",
   "metadata": {},
   "outputs": [],
   "source": [
    "pop_path = './data/chelyabinsk_25/pop_covasim.json'"
   ]
  },
  {
   "cell_type": "code",
   "execution_count": null,
   "id": "80f4a8f5-2c96-4549-bdab-c02aa4907586",
   "metadata": {},
   "outputs": [],
   "source": [
    "jsonpop = json.load(open(os.path.expanduser(pop_path)))\n",
    "\n",
    "popdict = {}\n",
    "for i in jsonpop:\n",
    "    popdict[int(i)] = jsonpop[i]\n",
    "    for j in ['H', 'S', 'W', 'C']:\n",
    "        popdict[int(i)]['contacts'][j] = set(jsonpop[i]['contacts'][j])"
   ]
  },
  {
   "cell_type": "markdown",
   "id": "a5187ba4-d65e-4286-9be8-1d4a0f1db888",
   "metadata": {
    "jp-MarkdownHeadingCollapsed": true
   },
   "source": [
    "# Работа с ковасимом"
   ]
  },
  {
   "cell_type": "markdown",
   "id": "fe5c5f79-e963-4a68-8b07-559c3a197ec2",
   "metadata": {
    "jp-MarkdownHeadingCollapsed": true
   },
   "source": [
    "### Создание симуляции с заданной популяцией"
   ]
  },
  {
   "cell_type": "code",
   "execution_count": null,
   "id": "14a822d6-951a-4ea2-b38f-9cf329921493",
   "metadata": {},
   "outputs": [],
   "source": [
    "pars = {'pop_size': 40797,\n",
    " 'pop_infected': 98,\n",
    " 'pop_type': 'synthpops',\n",
    " 'location': 'Chelyabinsk',\n",
    " 'n_days': 150,\n",
    " 'rand_seed': 1,\n",
    " 'verbose': 0,\n",
    " 'pop_scale': 1,\n",
    " 'scaled_pop': None,\n",
    " 'rescale': False,\n",
    " 'rescale_threshold': 1,\n",
    " 'rescale_factor': 1,\n",
    " 'frac_susceptible': 0.78,\n",
    " 'contacts': {'h': 1.57, 's': 8.5, 'w': 8.5, 'c': 0, 'l': 10},\n",
    " 'dynam_layer': {'h': 0, 's': 0, 'w': 0, 'c': 0, 'l': 0},\n",
    " 'beta_layer': {'h': 3.0, 's': 0.6, 'w': 0.6, 'c': 0, 'l': 1.5},\n",
    " 'beta_dist': {'dist': 'neg_binomial',\n",
    "  'par1': 1.0,\n",
    "  'par2': 0.45,\n",
    "  'step': 0.01},\n",
    " 'viral_dist': {'frac_time': 0.3, 'load_ratio': 2, 'high_cap': 4},\n",
    " 'beta': 0.23451319609633497,\n",
    " 'asymp_factor': 1.0,\n",
    " 'n_imports': 0,\n",
    " 'n_variants': 1,\n",
    " 'use_waning': False,\n",
    "\n",
    " 'rel_imm_symp': {'asymp': 0.85, 'mild': 1, 'severe': 1.5},\n",
    " 'immunity': None,\n",
    " 'trans_redux': 0.59,\n",
    " 'rel_beta': 1.0,\n",
    " 'interventions': [cv.test_num(daily_tests=40797, symp_test=100.0, quar_test=1.0, quar_policy=None, subtarget=None, \n",
    "                               ili_prev=None, sensitivity=1.0, loss_prob=0, test_delay=0, start_day=0, end_day=None, \n",
    "                               swab_delay=None)],\n",
    " 'rel_symp_prob': 1.0,\n",
    " 'rel_severe_prob': 1.0,\n",
    " 'rel_crit_prob': 0,\n",
    " 'rel_death_prob': 0,\n",
    " 'prog_by_age': False,\n",
    " 'prognoses': {'age_cutoffs': np.array([ 0, 10, 20, 30, 40, 50, 60, 70, 80, 90]),\n",
    "      'sus_ORs':  np.array([0.34, 0.67, 1.  , 1.  , 1.  , 1.  , 1.24, 1.47, 1.47, 1.47]),\n",
    "      'trans_ORs':  np.array([1., 1., 1., 1., 1., 1., 1., 1., 1., 1.]),\n",
    "      'comorbidities':  np.array([1., 1., 1., 1., 1., 1., 1., 1., 1., 1.]),\n",
    "      'symp_probs':  np.array([0.5 , 0.55, 0.6 , 0.65, 0.7 , 0.75, 0.8 , 0.85, 0.9 , 0.9 ]),\n",
    "      'severe_probs':  np.array([0.001, 0.003, 0.012, 0.032, 0.049, 0.102, 0.166, 0.243, 0.273,\n",
    "             0.273]),\n",
    "      'crit_probs':  np.array([0., 0., 0., 0., 0., 0., 0., 0., 0., 0.]),\n",
    "      'death_probs':  np.array([0., 0., 0., 0., 0., 0., 0., 0., 0., 0.])},\n",
    " 'iso_factor': {'h': 1, 's': 1, 'w': 1, 'c': 1, 'l': 1},\n",
    " 'quar_factor': {'h': 1, 's': 1, 'w': 1, 'c': 1, 'l': 1},\n",
    " 'quar_period': 0,\n",
    " 'analyzers': [],\n",
    " 'timelimit': None,\n",
    " 'stopping_func': None,\n",
    " 'n_beds_hosp': None,\n",
    " 'n_beds_icu': None,\n",
    " 'no_hosp_factor': 1,\n",
    " 'no_icu_factor': 1,\n",
    " 'vaccine_pars': {},\n",
    " 'vaccine_map': {},\n",
    " 'variants': [],\n",
    " 'variant_map': {0: 'wild'},\n",
    " 'variant_pars': {'wild': {'rel_beta': 1.0,\n",
    "   'rel_symp_prob': 1.0,\n",
    "   'rel_severe_prob': 1.0,\n",
    "   'rel_crit_prob': 0,\n",
    "   'rel_death_prob': 0}}}\n",
    "\n",
    "\n",
    "sim = cv.Sim(pars, interventions=cv.test_num(daily_tests=len(popdict)), datafile='./data/chelyabinsk_25/Chelyabinsk_dataset.csv')\n",
    "sim.popdict = cv.make_synthpop(sim, popdict=popdict)"
   ]
  },
  {
   "cell_type": "markdown",
   "id": "c0e3fec6-98fa-4505-9139-cb980b3d76d2",
   "metadata": {
    "jp-MarkdownHeadingCollapsed": true
   },
   "source": [
    "### Калибровка"
   ]
  },
  {
   "cell_type": "code",
   "execution_count": null,
   "id": "ccd6a750-7f45-4766-bb36-6d1f63bd2f72",
   "metadata": {},
   "outputs": [],
   "source": [
    "calib_pars = dict(\n",
    "    beta           = [0.23451319609633497, 0.1, 0.50],\n",
    "    pop_infected   = [10, 1, 100]\n",
    ")\n",
    "calib = sim.calibrate(calib_pars=calib_pars, total_trials=100)"
   ]
  },
  {
   "cell_type": "code",
   "execution_count": null,
   "id": "cbc74c4c-5d55-4656-94d2-45744255c23f",
   "metadata": {},
   "outputs": [],
   "source": [
    "calib.plot_sims(to_plot=['new_infections','cum_infections'])"
   ]
  },
  {
   "cell_type": "markdown",
   "id": "3d502186-55e9-404b-a561-adbd62b3bab3",
   "metadata": {
    "jp-MarkdownHeadingCollapsed": true
   },
   "source": [
    "### Автокалибровка"
   ]
  },
  {
   "cell_type": "raw",
   "id": "1e0d14e6-5dbb-4d95-a34e-d714d227d13e",
   "metadata": {},
   "source": [
    "- параметры для модели внутри бибилиотек"
   ]
  },
  {
   "cell_type": "code",
   "execution_count": null,
   "id": "78e286d0-303f-4372-b705-1537792ad18a",
   "metadata": {},
   "outputs": [],
   "source": [
    "location='Chelyabinsk'\n",
    "pop_location=40797\n",
    "cal_keys=['n_infectious', 'new_diagnoses', 'cum_diagnoses'] # ключи для калибровки\n",
    "cal_values=[1, 2, 3] # веса для параметров\n",
    "pop_inf=[98,1,150] # количество первоначально зараженных: лучшее, мин, макс\n",
    "\n",
    "data_csv=\"./data/chelyabinsk_25/Chelyabinsk_dataset.csv\"\n",
    "\n",
    "\n",
    "df1=pd.read_csv(data_csv,index_col=0,parse_dates=True)\n",
    "\n",
    "# fill unknown tests\n",
    "df1.new_tests=past_extr(df=df1,series=df1.new_tests,n=df1['new_tests'].isna().sum())\n",
    "df1=smooth_pd(df1)\n",
    "df1['date']=df1.index\n",
    "\n",
    "# define start day and last day, bounds_of_periods for calibration\n",
    "start_day=cv.date(df1.index[0].to_pydatetime().date())\n",
    "last_day=cv.date(df1.index[-1].to_pydatetime().date())\n",
    "bounds_of_periods=bounds_of_per(start_day,last_day)\n",
    "bounds_of_periods.append(cv.date(last_day, as_date=False))\n",
    "                         \n",
    "# parameters for plotting\n",
    "figsize=(18,5)\n",
    "fontsize=18\n",
    "fontsize_legend=15\n",
    "linewidth=2\n",
    "ticks=50\n",
    "rotation=0\n",
    "dateformat='%Y.%m.%d'"
   ]
  },
  {
   "cell_type": "code",
   "execution_count": null,
   "id": "75e93a9e-0018-40b5-bd4f-90871ec8d28c",
   "metadata": {},
   "outputs": [],
   "source": [
    "# import calibrated parameters for Novosibirsk\n",
    "calibrated_params=open('./data/chelyabinsk_25/p_autocal_total.json','r')\n",
    "p=json.load(calibrated_params)\n",
    "\n",
    "\n",
    "# define beta_changes and beta_days from calibrated parameters in list 'p'\n",
    "b_days=[]\n",
    "b_changes=[]\n",
    "for i in range(len(p)):\n",
    "    b_days.append(p[i][f'beta_day_{i+1}'])\n",
    "    b_changes.append(p[i][f'beta_change_{i+1}'])\n",
    "b_days=list(map(int, b_days))\n",
    "\n",
    "\n",
    "# dates of beta_change\n",
    "b_change_model=cv.date(b_days,start_date=start_day, as_date=False)"
   ]
  },
  {
   "cell_type": "code",
   "execution_count": null,
   "id": "adb6f036-c90d-4ca3-a4c0-282d707bfb7a",
   "metadata": {},
   "outputs": [],
   "source": [
    "# do autocalibration\n",
    "\n",
    "# create an empty list for calibrated parameters\n",
    "p=[]\n",
    "\n",
    "for i in range(len(bounds_of_periods)):\n",
    "    print('p before calibration', p)\n",
    "    sim,p=calibration_process(param=p, datafile=df1, location=location, pop_location=pop_location, start_day=start_day,\n",
    "                              end_day=bounds_of_periods[i], cal_keys=cal_keys, cal_values=cal_values, pop_inf=pop_inf,\n",
    "                              #n_runs=n_runs, n_workers=n_workers,\n",
    "                              popdict=popdict)\n",
    "    print('p after calibration', p)\n",
    "\n",
    "with open('p_autocal_total.json', 'w') as jsonfile:\n",
    "    json.dump(p, jsonfile)"
   ]
  },
  {
   "cell_type": "code",
   "execution_count": null,
   "id": "491e9a9a-68f4-4488-9aee-60097a1fb25a",
   "metadata": {},
   "outputs": [],
   "source": [
    "sim=run_model(p=p, location=location, pop_location=pop_location, start_day=start_day, end_day=last_day, \n",
    "              b_days=b_days, b_changes=b_changes, data=df1, run=False, popdict=popdict)\n",
    "namesim=''\n",
    "# run multiple sims to calculate confidential interval\n",
    "run_msim_conf(sim=sim, to_plot=['new_diagnoses'], save=True, namemsim=namesim)"
   ]
  },
  {
   "cell_type": "markdown",
   "id": "b0ddc71d-62e8-471f-95c3-bcaf460cb221",
   "metadata": {},
   "source": [
    "#### Нужна ли новая калибровка"
   ]
  },
  {
   "cell_type": "code",
   "execution_count": null,
   "id": "893a1d44-1080-42b2-98a8-c01858ce0911",
   "metadata": {},
   "outputs": [],
   "source": [
    "previous_cal_day='2021-01-17' #день начала калибровки\n",
    "timedelt = 40 # период рекалибровки\n",
    "previous_cal_day, day_today, run_calibration=if_new_calib(previous_cal_day=previous_cal_day, timedelt=timedelt)\n",
    "\n",
    "if run_calibration:\n",
    "    sim,p = calibration_process(param=p, datafile=df1, location=location, pop_location=pop_location, start_day=start_day,\n",
    "                              end_day=day_today, cal_keys=cal_keys, cal_values=cal_values, pop_inf=pop_inf,\n",
    "                              school_days=school_days, school_changes=school_changes)\n",
    "    sim=run_model(p=p, end_day=day_today,location=location, pop_location=pop_location, start_day=start_day, school_days=school_days, school_changes=school_changes, \n",
    "                 b_days=b_days, b_changes=b_changes, data=df1,run=True)\n",
    "else: \n",
    "    sim=run_model(p=p, end_day=day_today,location=location, pop_location=pop_location, start_day=start_day, school_days=school_days, school_changes=school_changes, \n",
    "                 b_days=b_days, b_changes=b_changes, data=df1,run=True)\n",
    "    \n",
    "#sim.plot(to_plot=['new_diagnoses','new_infections'],show_args={'interventions':False})"
   ]
  },
  {
   "cell_type": "markdown",
   "id": "3151bdad-df7b-4113-9986-04199f37809a",
   "metadata": {},
   "source": [
    "#### Доверительный интервал"
   ]
  },
  {
   "cell_type": "code",
   "execution_count": null,
   "id": "0585b407-37dd-4bc8-97fa-caac3dedd1c6",
   "metadata": {},
   "outputs": [],
   "source": [
    "sim=run_model(p=p, location=location, pop_location=pop_location, start_day=start_day, end_day=last_day, \n",
    "              b_days=b_days, b_changes=b_changes, data=df1, run=False, popdict=popdict)\n",
    "namesim='Chelyabinsk_25'\n",
    "# run multiple sims to calculate confidential interval\n",
    "run_msim_conf(sim=sim, to_plot=['new_diagnoses'], save=True, namemsim=namesim)"
   ]
  },
  {
   "cell_type": "code",
   "execution_count": null,
   "id": "b058f836-f0eb-4068-8894-aba357e50a3b",
   "metadata": {},
   "outputs": [],
   "source": [
    "# detailed plot of confidential interval\n",
    "msi_path = \"\" # путь до файла с симуляцией\n",
    "msi=cv.load(msi_path) \n",
    "dday=80\n",
    "test_data=None\n",
    "\n",
    "\n",
    "msi.plot(to_plot=['new_diagnoses'],fig_args={'figsize': figsize},test_data=test_data)\n",
    "msi.plot(to_plot=['new_diagnoses'],fig_args={'figsize': figsize}, dday=dday, test_data=test_data, dateformat=dateformat)\n",
    "msi.plot(to_plot=['new_deaths'],fig_args={'figsize': figsize},test_data=test_data)\n",
    "msi.plot(to_plot=['new_deaths'],fig_args={'figsize': figsize},dday=dday, test_data=test_data, dateformat=dateformat)\n",
    "msi.plot(to_plot=['new_recoveries'],fig_args={'figsize': figsize}, test_data=test_data)\n",
    "msi.plot(to_plot=['new_recoveries'],fig_args={'figsize': figsize}, dday=dday, test_data=test_data, dateformat=dateformat)\n",
    "msi.plot(to_plot=['n_critical'],fig_args={'figsize': figsize}, test_data=test_data)\n",
    "msi.plot(to_plot=['n_critical'],fig_args={'figsize': figsize}, dday=dday, test_data=test_data, dateformat=dateformat)"
   ]
  },
  {
   "cell_type": "markdown",
   "id": "a168cdde-2bfe-42c6-91bd-2783b92df125",
   "metadata": {
    "jp-MarkdownHeadingCollapsed": true
   },
   "source": [
    "### Моделирование"
   ]
  },
  {
   "cell_type": "code",
   "execution_count": null,
   "id": "65d0037e-d18e-4faf-96c6-838a0e6af33d",
   "metadata": {},
   "outputs": [],
   "source": [
    "sim.run()"
   ]
  },
  {
   "cell_type": "code",
   "execution_count": null,
   "id": "577991ec-3021-40cc-8185-cdccf4a5983a",
   "metadata": {},
   "outputs": [],
   "source": [
    "fit = sim.compute_fit()\n",
    "fit.summarize()"
   ]
  },
  {
   "cell_type": "code",
   "execution_count": null,
   "id": "4cbd3a67-be02-4ffd-8cd8-4f614e19e071",
   "metadata": {},
   "outputs": [],
   "source": [
    "sim.plot(to_plot=['new_infections','cum_infections', 'n_infectious'])"
   ]
  },
  {
   "cell_type": "code",
   "execution_count": null,
   "id": "faa17714-1537-41ed-bcb7-65c0a0bb2c91",
   "metadata": {},
   "outputs": [],
   "source": [
    "fit.plot()\n",
    "fit.summarize()"
   ]
  },
  {
   "cell_type": "markdown",
   "id": "f58751ac-92f3-4e7d-94a3-d93d6668d58c",
   "metadata": {
    "jp-MarkdownHeadingCollapsed": true
   },
   "source": [
    "### Параметры популяции"
   ]
  },
  {
   "cell_type": "code",
   "execution_count": null,
   "id": "d5926485-d91c-42ed-9dac-587bbb5a07fd",
   "metadata": {},
   "outputs": [],
   "source": [
    "sim.people.plot()"
   ]
  }
 ],
 "metadata": {
  "kernelspec": {
   "display_name": "Python 3 (ipykernel)",
   "language": "python",
   "name": "python3"
  },
  "language_info": {
   "codemirror_mode": {
    "name": "ipython",
    "version": 3
   },
   "file_extension": ".py",
   "mimetype": "text/x-python",
   "name": "python",
   "nbconvert_exporter": "python",
   "pygments_lexer": "ipython3",
   "version": "3.10.12"
  }
 },
 "nbformat": 4,
 "nbformat_minor": 5
}
